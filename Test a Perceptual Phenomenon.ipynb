{
 "cells": [
  {
   "cell_type": "markdown",
   "metadata": {},
   "source": [
    "### Analyzing the Stroop Effect\n",
    "Perform the analysis in the space below. Remember to follow [the instructions](https://docs.google.com/document/d/1-OkpZLjG_kX9J6LIQ5IltsqMzVWjh36QpnP2RYpVdPU/pub?embedded=True) and review the [project rubric](https://review.udacity.com/#!/rubrics/71/view) before submitting. Once you've completed the analysis and write-up, download this file as a PDF or HTML file, upload that PDF/HTML into the workspace here (click on the orange Jupyter icon in the upper left then Upload), then use the Submit Project button at the bottom of this page. This will create a zip file containing both this .ipynb doc and the PDF/HTML doc that will be submitted for your project.\n",
    "\n",
    "\n",
    "<strong>(1) What is the independent variable? What is the dependent variable?</strong>"
   ]
  },
  {
   "cell_type": "markdown",
   "metadata": {},
   "source": [
    "The independent variable is whether the word is the same as its colour (congruent) or different to its colour (incongruent).<br>\n",
    "The dependent variable is the time it takes for the tester to name the colour."
   ]
  },
  {
   "cell_type": "markdown",
   "metadata": {},
   "source": [
    "<strong>(2) What is an appropriate set of hypotheses for this task? Specify your null and alternative hypotheses, and clearly define any notation used. Justify your choices.</strong>"
   ]
  },
  {
   "cell_type": "markdown",
   "metadata": {},
   "source": [
    "The null hypothesis ($H_0$) is that the response time it takes to name the colour regardless if the word is congruent or incongruent is the same.<br>\n",
    "The alternative hypothesis ($H_1$) is that the response time it takes to name the colour is slower by 5% or more if the word is incongruent than if the word is congruent.<br><br>\n",
    "Or stated in another way:<br>\n",
    "$H_0$ = $\\mu_{con}$ = $\\mu_{incon}$<br>\n",
    "$H_1$ = $\\mu_{con}$ < $\\mu_{incon}$"
   ]
  },
  {
   "cell_type": "markdown",
   "metadata": {},
   "source": [
    "<strong>(3) Report some descriptive statistics regarding this dataset. Include at least one measure of central tendency and at least one measure of variability. The name of the data file is 'stroopdata.csv'.</strong>"
   ]
  },
  {
   "cell_type": "code",
   "execution_count": 1,
   "metadata": {},
   "outputs": [],
   "source": [
    "import pandas as pd\n",
    "import numpy as np\n",
    "import scipy.stats as stats\n",
    "import matplotlib.pyplot as plt\n",
    "%matplotlib inline"
   ]
  },
  {
   "cell_type": "code",
   "execution_count": 2,
   "metadata": {},
   "outputs": [
    {
     "data": {
      "text/html": [
       "<div>\n",
       "<style scoped>\n",
       "    .dataframe tbody tr th:only-of-type {\n",
       "        vertical-align: middle;\n",
       "    }\n",
       "\n",
       "    .dataframe tbody tr th {\n",
       "        vertical-align: top;\n",
       "    }\n",
       "\n",
       "    .dataframe thead th {\n",
       "        text-align: right;\n",
       "    }\n",
       "</style>\n",
       "<table border=\"1\" class=\"dataframe\">\n",
       "  <thead>\n",
       "    <tr style=\"text-align: right;\">\n",
       "      <th></th>\n",
       "      <th>Congruent</th>\n",
       "      <th>Incongruent</th>\n",
       "    </tr>\n",
       "  </thead>\n",
       "  <tbody>\n",
       "    <tr>\n",
       "      <th>0</th>\n",
       "      <td>12.079</td>\n",
       "      <td>19.278</td>\n",
       "    </tr>\n",
       "    <tr>\n",
       "      <th>1</th>\n",
       "      <td>16.791</td>\n",
       "      <td>18.741</td>\n",
       "    </tr>\n",
       "    <tr>\n",
       "      <th>2</th>\n",
       "      <td>9.564</td>\n",
       "      <td>21.214</td>\n",
       "    </tr>\n",
       "    <tr>\n",
       "      <th>3</th>\n",
       "      <td>8.630</td>\n",
       "      <td>15.687</td>\n",
       "    </tr>\n",
       "    <tr>\n",
       "      <th>4</th>\n",
       "      <td>14.669</td>\n",
       "      <td>22.803</td>\n",
       "    </tr>\n",
       "  </tbody>\n",
       "</table>\n",
       "</div>"
      ],
      "text/plain": [
       "   Congruent  Incongruent\n",
       "0     12.079       19.278\n",
       "1     16.791       18.741\n",
       "2      9.564       21.214\n",
       "3      8.630       15.687\n",
       "4     14.669       22.803"
      ]
     },
     "execution_count": 2,
     "metadata": {},
     "output_type": "execute_result"
    }
   ],
   "source": [
    "df=pd.read_csv('stroopdata.csv')\n",
    "df.head()"
   ]
  },
  {
   "cell_type": "code",
   "execution_count": 3,
   "metadata": {},
   "outputs": [
    {
     "data": {
      "text/plain": [
       "24"
      ]
     },
     "execution_count": 3,
     "metadata": {},
     "output_type": "execute_result"
    }
   ],
   "source": [
    "df.shape[0]"
   ]
  },
  {
   "cell_type": "code",
   "execution_count": 4,
   "metadata": {},
   "outputs": [
    {
     "name": "stdout",
     "output_type": "stream",
     "text": [
      "Congruent mean: 14.051125000000004\n",
      "Incongruent mean: 22.01591666666667\n"
     ]
    }
   ],
   "source": [
    "con_mean = df.Congruent.mean()\n",
    "incon_mean = df.Incongruent.mean()\n",
    "print('Congruent mean:', con_mean)\n",
    "print('Incongruent mean:', incon_mean)"
   ]
  },
  {
   "cell_type": "code",
   "execution_count": 5,
   "metadata": {},
   "outputs": [
    {
     "name": "stdout",
     "output_type": "stream",
     "text": [
      "Congruent median: 14.3565\n",
      "Incongruent median: 21.0175\n"
     ]
    }
   ],
   "source": [
    "con_median = df.Congruent.median()\n",
    "incon_median = df.Incongruent.median()\n",
    "print('Congruent median:', con_median)\n",
    "print('Incongruent median:', incon_median)"
   ]
  },
  {
   "cell_type": "code",
   "execution_count": 6,
   "metadata": {},
   "outputs": [
    {
     "name": "stdout",
     "output_type": "stream",
     "text": [
      "Congruent interquartile range: 4.3054999999999986\n"
     ]
    }
   ],
   "source": [
    "q75, q25 = np.percentile(df.Congruent, [75,25])\n",
    "iqr_con = q75 - q25\n",
    "print('Congruent interquartile range:', iqr_con)"
   ]
  },
  {
   "cell_type": "code",
   "execution_count": 7,
   "metadata": {},
   "outputs": [
    {
     "name": "stdout",
     "output_type": "stream",
     "text": [
      "Incongruent interquartile range: 5.33475\n"
     ]
    }
   ],
   "source": [
    "q75, q25 = np.percentile(df.Incongruent, [75,25])\n",
    "iqr_incon = q75 - q25\n",
    "print('Incongruent interquartile range:', iqr_incon)"
   ]
  },
  {
   "cell_type": "code",
   "execution_count": 8,
   "metadata": {
    "scrolled": false
   },
   "outputs": [
    {
     "name": "stdout",
     "output_type": "stream",
     "text": [
      "Congruent standard deviation: 3.559357957645195\n",
      "Incongruent standard deviation: 4.797057122469138\n"
     ]
    }
   ],
   "source": [
    "#calculate the standard deviation of the sample instead of the population using parameter ddof=1\n",
    "std_con = np.std(df.Congruent, ddof=1)\n",
    "std_incon = np.std(df.Incongruent, ddof=1)\n",
    "print('Congruent standard deviation:',std_con)\n",
    "print('Incongruent standard deviation:',std_incon)"
   ]
  },
  {
   "cell_type": "markdown",
   "metadata": {},
   "source": [
    "To measure central tendency, mean and median was used.<br>\n",
    "For congruent words, the mean response time was 14.0511 and the median was 14.3565<br>\n",
    "For incongruent words, the mean response time was 22.0159 and the median was 21.0175<br>\n",
    "\n",
    "To measure variability, interquartile range and standard deviation was used.<br>\n",
    "For congruent words, the interquartile range was 4.3055 and the standard deviation was 3.5593\n",
    "For incongruent words, the interquartile range was 5.3348 and the standard deviation was 4.7970"
   ]
  },
  {
   "cell_type": "markdown",
   "metadata": {},
   "source": [
    "<strong>(4) Provide one or two visualizations that show the distribution of the sample data. Write one or two sentences noting what you observe about the plot or plots.</strong>"
   ]
  },
  {
   "cell_type": "code",
   "execution_count": 9,
   "metadata": {
    "scrolled": true
   },
   "outputs": [
    {
     "data": {
      "text/plain": [
       "<matplotlib.legend.Legend at 0x1e4f63e5860>"
      ]
     },
     "execution_count": 9,
     "metadata": {},
     "output_type": "execute_result"
    },
    {
     "data": {
      "image/png": "[encoded data removed]",
      "text/plain": [
       "<Figure size 576x288 with 1 Axes>"
      ]
     },
     "metadata": {},
     "output_type": "display_data"
    }
   ],
   "source": [
    "fig=plt.figure(figsize=(8,4))\n",
    "ax=fig.add_subplot(1,1,1)\n",
    "\n",
    "ax = df.Congruent.plot.hist(\n",
    "    fontsize=12, alpha=0.7\n",
    ")\n",
    "ax = df.Incongruent.plot.hist(\n",
    "    fontsize=12, alpha=0.7\n",
    ")\n",
    "ax.set_xlabel('Response Time')\n",
    "ax.set_ylabel('Frequency')\n",
    "ax.set_title('Congruent vs Incongruent', fontsize=14)\n",
    "ax.legend(labels=('Congruent','Incongruent'))"
   ]
  },
  {
   "cell_type": "markdown",
   "metadata": {},
   "source": [
    "The response time for congruent words is generally quicker than incongruent words.<br>\n",
    "The histogram does not show a perfectly normal bell curve but that is likely due to a small sample size of only 24 paired tests.<br>\n",
    "It is also interesting that 2 responses for incongruent words took quite a bit longer than the others at about 34 seconds. This could be due to the testers thinking longer and more deeply about the problem."
   ]
  },
  {
   "cell_type": "markdown",
   "metadata": {},
   "source": [
    "<strong>(5)  Now, perform the statistical test and report your results. What is your confidence level or Type I error associated with your test? What is your conclusion regarding the hypotheses you set up? Did the results match up with your expectations? **Hint:**  Think about what is being measured on each individual, and what statistic best captures how an individual reacts in each environment.</strong>"
   ]
  },
  {
   "cell_type": "code",
   "execution_count": 10,
   "metadata": {},
   "outputs": [
    {
     "data": {
      "text/plain": [
       "Ttest_relResult(statistic=-8.020706944109957, pvalue=4.103000585711178e-08)"
      ]
     },
     "execution_count": 10,
     "metadata": {},
     "output_type": "execute_result"
    }
   ],
   "source": [
    "#perform a paired t-test\n",
    "stats.ttest_rel(df.Congruent, df.Incongruent) "
   ]
  },
  {
   "cell_type": "markdown",
   "metadata": {},
   "source": [
    "We have chosen to use a paired t-test to perform the statistical test. We used the `ttest_rel` function from the scipy package. We chose this test because of the following facts:\n",
    "  * The null hypothesis is $\\mu_{con}$ = $\\mu_{incon}$, therefore we are testing both tails, that is a two-tailed test.\n",
    "  * The congruent and incongruent results are paired because they are part of the same test performed by the same person.\n",
    "  * The distribution is not perfectly normal. This is likely due to the small sample size. If we wanted the distribution closer to normal, we could increase the sample size. In this case however we can assume normality as the results are similar to what we can expect a human to perform. Normality is important as a t-test expects the distribution to be normal or close to normal for accurate results.\n",
    "\n",
    "In the results the p-value is much smaller than 0.05 therefore we can reject the null hypothesis and go with the alternative hypothesis which is that incongruent words take longer to respond than congruent words."
   ]
  },
  {
   "cell_type": "markdown",
   "metadata": {},
   "source": [
    "<strong>(6) Optional: What do you think is responsible for the effects observed? Can you think of an alternative or similar task that would result in a similar effect? Some research about the problem will be helpful for thinking about these two questions!</strong>"
   ]
  },
  {
   "cell_type": "markdown",
   "metadata": {},
   "source": [
    "It is quicker to respond when the word matched the word's colour because there is no conflict. When the word did not match the colour it would take longer to respond because you had to think harder to work out the colour.<br><br>\n",
    "Another version of the stroop effect that would result in a similar effect is the emotional stroop test where some words are associated with negative emotions like \"anxiety\" or \"depression\". The response times for these words would take longer especially if the tester also suffered from these illnesses."
   ]
  },
  {
   "cell_type": "markdown",
   "metadata": {},
   "source": [
    "### Resources\n",
    "\n",
    "Dependent t-test for paired samples<br>\n",
    "https://statistics.laerd.com/statistical-guides/dependent-t-test-statistical-guide.php\n"
   ]
  },
  {
   "cell_type": "code",
   "execution_count": null,
   "metadata": {},
   "outputs": [],
   "source": []
  }
 ],
 "metadata": {
  "kernelspec": {
   "display_name": "Python [default]",
   "language": "python",
   "name": "python3"
  },
  "language_info": {
   "codemirror_mode": {
    "name": "ipython",
    "version": 3
   },
   "file_extension": ".py",
   "mimetype": "text/x-python",
   "name": "python",
   "nbconvert_exporter": "python",
   "pygments_lexer": "ipython3",
   "version": "3.6.5"
  }
 },
 "nbformat": 4,
 "nbformat_minor": 2
}
